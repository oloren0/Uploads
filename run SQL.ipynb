{
 "cells": [
  {
   "cell_type": "code",
   "execution_count": 36,
   "id": "c26d97fb-3731-4f76-9c58-7483ea6dc46d",
   "metadata": {},
   "outputs": [
    {
     "name": "stdout",
     "output_type": "stream",
     "text": [
      "Current Working Directory: /Users/ofrioren/GIT/SQLFiles Tier 2\n"
     ]
    }
   ],
   "source": [
    "import sqlite3\n",
    "import pandas as pd\n",
    "import os\n",
    "\n",
    "\n",
    "print(\"Current Working Directory:\", os.getcwd())\n",
    "\n",
    "# Use an absolute path to ensure the file is found\n",
    "sql_file_path = '/Users/ofrioren/GIT/SQLFiles Tier 2/country_club.sql'\n",
    "\n",
    "# Check if the file exists\n",
    "if not os.path.isfile(sql_file_path):\n",
    "    print(f\"File not found: {sql_file_path}\")\n",
    "else:\n",
    "    # Connect to SQLite database (or create it if it doesn't exist)\n",
    "    conn = sqlite3.connect('example.db')"
   ]
  },
  {
   "cell_type": "code",
   "execution_count": 46,
   "id": "39fe04c0-5d42-4a56-8289-474a9f0d939b",
   "metadata": {},
   "outputs": [
    {
     "data": {
      "text/plain": [
       "[('Bader Florence', 'Stibbons Ponder'),\n",
       " ('Baker Anne', 'Stibbons Ponder'),\n",
       " ('Baker Timothy', 'Farrell Jemima'),\n",
       " ('Boothe Tim', 'Rownam Tim'),\n",
       " ('Butters Gerald', 'Smith Darren'),\n",
       " ('Coplin Joan', 'Baker Timothy'),\n",
       " ('Crumpet Erica', 'Smith Tracy'),\n",
       " ('Dare Nancy', 'Joplette Janice'),\n",
       " ('Farrell David', None),\n",
       " ('Farrell Jemima', None),\n",
       " ('GUEST GUEST', None),\n",
       " ('Genting Matthew', 'Butters Gerald'),\n",
       " ('Hunt John', 'Purview Millicent'),\n",
       " ('Jones David', 'Joplette Janice'),\n",
       " ('Jones Douglas', 'Jones David'),\n",
       " ('Joplette Janice', 'Smith Darren'),\n",
       " ('Mackenzie Anna', 'Smith Darren'),\n",
       " ('Owen Charles', 'Smith Darren'),\n",
       " ('Pinker David', 'Farrell Jemima'),\n",
       " ('Purview Millicent', 'Smith Tracy'),\n",
       " ('Rownam Tim', None),\n",
       " ('Rumney Henrietta', 'Genting Matthew'),\n",
       " ('Sarwin Ramnaresh', 'Bader Florence'),\n",
       " ('Smith Darren', None),\n",
       " ('Smith Darren', None),\n",
       " ('Smith Jack', 'Smith Darren'),\n",
       " ('Smith Tracy', None),\n",
       " ('Stibbons Ponder', 'Tracy Burton'),\n",
       " ('Tracy Burton', None),\n",
       " ('Tupperware Hyacinth', None),\n",
       " ('Worthington-Smyth Henry', 'Smith Tracy')]"
      ]
     },
     "execution_count": 46,
     "metadata": {},
     "output_type": "execute_result"
    }
   ],
   "source": [
    "import sqlite3\n",
    "import pandas as pd\n",
    "\n",
    "# Connect to SQLite database (or create it if it doesn't exist)\n",
    "conn = sqlite3.connect('sqlite_db_pythonsqlite.db')\n",
    "\n",
    "# Create a cursor object\n",
    "cur = conn.cursor()\n",
    "\n",
    "with open('/Users/ofrioren/GIT/SQLFiles Tier 2/country_club.sql', 'r') as file:\n",
    "    sql_script = file.read()\n",
    "\n",
    "\n",
    "# Example: Execute an SQL query\n",
    "query = '''\n",
    "SELECT \n",
    "    (m.surname || ' ' || m.firstname) AS name,\n",
    "    CASE \n",
    "        WHEN m.recommendedby = 0 THEN 'None'\n",
    "        ELSE (SELECT (m2.surname || ' ' || m2.firstname) \n",
    "              FROM Members AS m2 \n",
    "              WHERE m2.memid = m.recommendedby)\n",
    "    END AS recommender\n",
    "FROM Members AS m\n",
    "ORDER BY name;\n",
    "    '''\n",
    "\n",
    "# Execute the query and fetch all results\n",
    "cur.execute(query)\n",
    "results = cur.fetchall()\n",
    "results"
   ]
  }
 ],
 "metadata": {
  "kernelspec": {
   "display_name": "Python 3 (ipykernel)",
   "language": "python",
   "name": "python3"
  },
  "language_info": {
   "codemirror_mode": {
    "name": "ipython",
    "version": 3
   },
   "file_extension": ".py",
   "mimetype": "text/x-python",
   "name": "python",
   "nbconvert_exporter": "python",
   "pygments_lexer": "ipython3",
   "version": "3.11.7"
  }
 },
 "nbformat": 4,
 "nbformat_minor": 5
}
